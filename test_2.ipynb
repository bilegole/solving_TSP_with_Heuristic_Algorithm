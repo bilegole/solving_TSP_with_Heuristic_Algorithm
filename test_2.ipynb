{
 "cells": [
  {
   "cell_type": "code",
   "execution_count": 1,
   "metadata": {},
   "outputs": [],
   "source": [
    "from lib import *\n",
    "import datetime"
   ]
  },
  {
   "cell_type": "code",
   "execution_count": 2,
   "metadata": {},
   "outputs": [],
   "source": [
    "s_para = {\n",
    "    1:{\n",
    "        \"noisy\":1,\n",
    "        \"temp_dec_type\":1,\n",
    "        \"exchange_type\":1,\n",
    "        \"n\":50,\n",
    "        \"step\":0.1,\n",
    "        \"num\":1000,\n",
    "        \"solver\":tuihuo\n",
    "    }\n",
    "}\n",
    "m_para = {\n",
    "    1:{\n",
    "        \"x_range\":100,\n",
    "        \"y_range\":100,\n",
    "        \"points_num\":10\n",
    "    }\n",
    "}"
   ]
  },
  {
   "cell_type": "markdown",
   "metadata": {},
   "source": [
    "计算随机10000次，随机路径长度"
   ]
  },
  {
   "cell_type": "code",
   "execution_count": 3,
   "metadata": {},
   "outputs": [],
   "source": [
    "res = [\n",
    "    map_2d(\n",
    "        x_range=m_para[1][\"x_range\"],\n",
    "        y_range=m_para[1][\"y_range\"],\n",
    "        points_num=m_para[1][\"points_num\"]\n",
    "    ).length(range(m_para[1][\"points_num\"]))\n",
    "    for i in range(10000)\n",
    "]"
   ]
  },
  {
   "cell_type": "code",
   "execution_count": 4,
   "metadata": {},
   "outputs": [
    {
     "data": {
      "image/png": "[encoded data removed]",
      "text/plain": [
       "<Figure size 432x288 with 1 Axes>"
      ]
     },
     "metadata": {
      "needs_background": "light"
     },
     "output_type": "display_data"
    }
   ],
   "source": [
    "plt.hist(res,bins=100,range=[100,800])\n",
    "plt.show()"
   ]
  },
  {
   "cell_type": "markdown",
   "metadata": {},
   "source": [
    "按照给定的参数进行优化的长度分布\n",
    "---\n",
    "- 下降方式:随机概率下降\n",
    "- 下降概率:0.05\n",
    "- 下降步法:固定步长下降\n",
    "- 下降步长:100"
   ]
  },
  {
   "cell_type": "code",
   "execution_count": 5,
   "metadata": {},
   "outputs": [
    {
     "name": "stdout",
     "output_type": "stream",
     "text": [
      "0:22:01.148041\n"
     ]
    }
   ],
   "source": [
    "starttime = datetime.datetime.now()\n",
    "res_2 = [\n",
    "    s_para[1][\"solver\"](\n",
    "        net = map_2d(\n",
    "            x_range=m_para[1][\"x_range\"],\n",
    "            y_range=m_para[1][\"y_range\"],\n",
    "            points_num=m_para[1][\"points_num\"]\n",
    "        ),\n",
    "        temp_dec_type=s_para[1][\"temp_dec_type\"],\n",
    "        exchange_type=s_para[1][\"exchange_type\"],\n",
    "        n=s_para[1][\"n\"],\n",
    "        step = s_para[1][\"step\"]\n",
    "    ).start()[1]\n",
    "    for i in range(s_para[1][\"num\"])\n",
    "]\n",
    "endtime = datetime.datetime.now()\n",
    "print(endtime - starttime)"
   ]
  },
  {
   "cell_type": "code",
   "execution_count": 6,
   "metadata": {},
   "outputs": [
    {
     "data": {
      "image/png": "[encoded data removed]",
      "text/plain": [
       "<Figure size 432x288 with 1 Axes>"
      ]
     },
     "metadata": {
      "needs_background": "light"
     },
     "output_type": "display_data"
    }
   ],
   "source": [
    "plt.hist(res_2,bins=100,range=[100,800])\n",
    "plt.show()"
   ]
  },
  {
   "cell_type": "code",
   "execution_count": null,
   "metadata": {},
   "outputs": [],
   "source": []
  }
 ],
 "metadata": {
  "kernelspec": {
   "display_name": "Python 3",
   "language": "python",
   "name": "python3"
  },
  "language_info": {
   "codemirror_mode": {
    "name": "ipython",
    "version": 3
   },
   "file_extension": ".py",
   "mimetype": "text/x-python",
   "name": "python",
   "nbconvert_exporter": "python",
   "pygments_lexer": "ipython3",
   "version": "3.7.3"
  },
  "toc": {
   "base_numbering": 1,
   "nav_menu": {},
   "number_sections": true,
   "sideBar": true,
   "skip_h1_title": false,
   "title_cell": "Table of Contents",
   "title_sidebar": "Contents",
   "toc_cell": false,
   "toc_position": {},
   "toc_section_display": true,
   "toc_window_display": false
  }
 },
 "nbformat": 4,
 "nbformat_minor": 2
}
