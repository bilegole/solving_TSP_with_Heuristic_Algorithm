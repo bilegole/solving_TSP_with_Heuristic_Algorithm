{
 "cells": [
  {
   "cell_type": "code",
   "execution_count": 1,
   "metadata": {},
   "outputs": [],
   "source": [
    "from lib import *"
   ]
  },
  {
   "cell_type": "code",
   "execution_count": 2,
   "metadata": {},
   "outputs": [],
   "source": [
    "m = map_2d()"
   ]
  },
  {
   "cell_type": "code",
   "execution_count": 3,
   "metadata": {},
   "outputs": [],
   "source": [
    "s_para = {\n",
    "    1:{\n",
    "        \"noisy\":1,\n",
    "        \"num\":10000,\n",
    "        \"solver\":Nearst\n",
    "    }\n",
    "}\n",
    "m_para = {\n",
    "    1:{\n",
    "        \"x_range\":100,\n",
    "        \"y_range\":100,\n",
    "        \"points_num\":10\n",
    "    }\n",
    "}"
   ]
  },
  {
   "cell_type": "code",
   "execution_count": 4,
   "metadata": {},
   "outputs": [
    {
     "name": "stdout",
     "output_type": "stream",
     "text": [
      "0:00:05.936915\n"
     ]
    }
   ],
   "source": [
    "starttime = datetime.datetime.now()\n",
    "res = [\n",
    "    s_para[1][\"solver\"](\n",
    "        net_to_solve = map_2d(\n",
    "            x_range = m_para[1][\"x_range\"],\n",
    "            y_range = m_para[1][\"y_range\"],\n",
    "            points_num = m_para[1][\"points_num\"]\n",
    "        )\n",
    "    ).start()[1]\n",
    "    for i in range(s_para[1][\"num\"])\n",
    "]\n",
    "endtime = datetime.datetime.now()\n",
    "print(endtime-starttime)"
   ]
  },
  {
   "cell_type": "code",
   "execution_count": 8,
   "metadata": {},
   "outputs": [
    {
     "data": {
      "image/png": "[encoded data removed]",
      "text/plain": [
       "<Figure size 432x288 with 1 Axes>"
      ]
     },
     "metadata": {
      "needs_background": "light"
     },
     "output_type": "display_data"
    }
   ],
   "source": [
    "plt.hist(res,bins=400,range=[100,500])\n",
    "plt.show()"
   ]
  },
  {
   "cell_type": "code",
   "execution_count": null,
   "metadata": {},
   "outputs": [],
   "source": []
  }
 ],
 "metadata": {
  "kernelspec": {
   "display_name": "Python 3",
   "language": "python",
   "name": "python3"
  },
  "language_info": {
   "codemirror_mode": {
    "name": "ipython",
    "version": 3
   },
   "file_extension": ".py",
   "mimetype": "text/x-python",
   "name": "python",
   "nbconvert_exporter": "python",
   "pygments_lexer": "ipython3",
   "version": "3.7.3"
  },
  "toc": {
   "base_numbering": 1,
   "nav_menu": {},
   "number_sections": true,
   "sideBar": true,
   "skip_h1_title": false,
   "title_cell": "Table of Contents",
   "title_sidebar": "Contents",
   "toc_cell": false,
   "toc_position": {},
   "toc_section_display": true,
   "toc_window_display": false
  }
 },
 "nbformat": 4,
 "nbformat_minor": 2
}
