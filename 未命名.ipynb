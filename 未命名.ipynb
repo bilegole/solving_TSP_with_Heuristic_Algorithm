{
 "cells": [
  {
   "cell_type": "code",
   "execution_count": 1,
   "metadata": {},
   "outputs": [],
   "source": [
    "from lib import *"
   ]
  },
  {
   "cell_type": "code",
   "execution_count": 2,
   "metadata": {},
   "outputs": [
    {
     "data": {
      "image/png": "[encoded data removed]",
      "text/plain": [
       "<Figure size 432x288 with 1 Axes>"
      ]
     },
     "metadata": {
      "needs_background": "light"
     },
     "output_type": "display_data"
    }
   ],
   "source": [
    "a = map_2d()\n",
    "a.show()"
   ]
  },
  {
   "cell_type": "code",
   "execution_count": 3,
   "metadata": {},
   "outputs": [
    {
     "data": {
      "text/plain": [
       "array([[ 0.        , 58.02714707, 70.6955786 , 60.64727772, 72.72957978,\n",
       "        68.54312012, 33.3467951 , 25.83468365, 33.93521863, 43.26075658],\n",
       "       [58.02714707,  0.        , 13.68156966, 12.11064075, 20.0972512 ,\n",
       "        42.67744612, 54.76896393, 38.70388501, 28.07531287, 50.08027277],\n",
       "       [70.6955786 , 13.68156966,  0.        , 20.87381064,  9.57758616,\n",
       "        50.96719485, 68.29633149, 52.36360652, 38.66928639, 56.03298271],\n",
       "       [60.64727772, 12.11064075, 20.87381064,  0.        , 29.67265464,\n",
       "        30.95835779, 50.33149113, 37.62624273, 35.6346082 , 60.21328477],\n",
       "       [72.72957978, 20.0972512 ,  9.57758616, 29.67265464,  0.        ,\n",
       "        60.2615474 , 74.35409699, 57.17210124, 39.2122596 , 52.03081098],\n",
       "       [68.54312012, 42.67744612, 50.96719485, 30.95835779, 60.2615474 ,\n",
       "         0.        , 42.67552719, 42.94009874, 57.57391393, 84.38760842],\n",
       "       [33.3467951 , 54.76896393, 68.29633149, 50.33149113, 74.35409699,\n",
       "        42.67552719,  0.        , 19.32190949, 45.98224611, 67.97673264],\n",
       "       [25.83468365, 38.70388501, 52.36360652, 37.62624273, 57.17210124,\n",
       "        42.94009874, 19.32190949,  0.        , 26.71147356, 50.10405578],\n",
       "       [33.93521863, 28.07531287, 38.66928639, 35.6346082 , 39.2122596 ,\n",
       "        57.57391393, 45.98224611, 26.71147356,  0.        , 26.8454771 ],\n",
       "       [43.26075658, 50.08027277, 56.03298271, 60.21328477, 52.03081098,\n",
       "        84.38760842, 67.97673264, 50.10405578, 26.8454771 ,  0.        ]])"
      ]
     },
     "execution_count": 3,
     "metadata": {},
     "output_type": "execute_result"
    }
   ],
   "source": [
    "a.edges()"
   ]
  },
  {
   "cell_type": "code",
   "execution_count": null,
   "metadata": {},
   "outputs": [],
   "source": []
  }
 ],
 "metadata": {
  "kernelspec": {
   "display_name": "Python 3",
   "language": "python",
   "name": "python3"
  },
  "language_info": {
   "codemirror_mode": {
    "name": "ipython",
    "version": 3
   },
   "file_extension": ".py",
   "mimetype": "text/x-python",
   "name": "python",
   "nbconvert_exporter": "python",
   "pygments_lexer": "ipython3",
   "version": "3.7.4"
  },
  "toc": {
   "base_numbering": 1,
   "nav_menu": {},
   "number_sections": true,
   "sideBar": true,
   "skip_h1_title": false,
   "title_cell": "Table of Contents",
   "title_sidebar": "Contents",
   "toc_cell": false,
   "toc_position": {},
   "toc_section_display": true,
   "toc_window_display": false
  }
 },
 "nbformat": 4,
 "nbformat_minor": 2
}
