{
 "cells": [
  {
   "cell_type": "code",
   "execution_count": 1,
   "metadata": {},
   "outputs": [],
   "source": [
    "from lib import *"
   ]
  },
  {
   "cell_type": "code",
   "execution_count": 3,
   "metadata": {},
   "outputs": [],
   "source": [
    "n = map_2d(\n",
    "    x_range=100,\n",
    "    y_range=100,\n",
    "    points_num = 10\n",
    ")"
   ]
  },
  {
   "cell_type": "code",
   "execution_count": 10,
   "metadata": {},
   "outputs": [],
   "source": [
    "res = tuihuo(\n",
    "    net = n,\n",
    "    temp_dec_type=1,\n",
    "    exchange_type=0,\n",
    "    n = 1000,\n",
    "    step = 0.001,\n",
    ").start()"
   ]
  },
  {
   "cell_type": "code",
   "execution_count": 12,
   "metadata": {},
   "outputs": [
    {
     "data": {
      "text/plain": [
       "[[0, 1, 8, 4, 9, 2, 6, 3, 7, 5], 237.4392253539062]"
      ]
     },
     "execution_count": 12,
     "metadata": {},
     "output_type": "execute_result"
    }
   ],
   "source": [
    "res"
   ]
  },
  {
   "cell_type": "code",
   "execution_count": 15,
   "metadata": {},
   "outputs": [],
   "source": [
    "res_2 = Nearst(\n",
    "    net_to_solve=n,\n",
    ").start()"
   ]
  },
  {
   "cell_type": "code",
   "execution_count": 16,
   "metadata": {},
   "outputs": [
    {
     "data": {
      "text/plain": [
       "[[0, 1, 8, 4, 9, 2, 6, 3, 7, 5], 237.4392253539062]"
      ]
     },
     "execution_count": 16,
     "metadata": {},
     "output_type": "execute_result"
    }
   ],
   "source": [
    "res_2"
   ]
  },
  {
   "cell_type": "code",
   "execution_count": 18,
   "metadata": {},
   "outputs": [
    {
     "data": {
      "text/plain": [
       "[[0, 1, 8, 4, 9, 2, 5, 7, 6, 3], 267.37418051494745]"
      ]
     },
     "execution_count": 18,
     "metadata": {},
     "output_type": "execute_result"
    }
   ],
   "source": [
    "tuihuo(\n",
    "    net = n,\n",
    "    temp_dec_type=1,\n",
    "    exchange_type=0,\n",
    "    n = 1000,\n",
    "    step = 0.001,\n",
    ").start()"
   ]
  },
  {
   "cell_type": "code",
   "execution_count": 19,
   "metadata": {},
   "outputs": [
    {
     "data": {
      "text/plain": [
       "[[0, 5, 7, 3, 6, 2, 9, 1, 8, 4], 267.9136660798863]"
      ]
     },
     "execution_count": 19,
     "metadata": {},
     "output_type": "execute_result"
    }
   ],
   "source": [
    "tuihuo(\n",
    "    net = n,\n",
    "    temp_dec_type=1,\n",
    "    exchange_type=1,\n",
    "    n = 1000,\n",
    "    step = 0.001,\n",
    ").start()"
   ]
  },
  {
   "cell_type": "code",
   "execution_count": null,
   "metadata": {},
   "outputs": [],
   "source": [
    "tuihuo(\n",
    "    net = n,\n",
    "    temp_dec_type=1,\n",
    "    exchange_type=1,\n",
    "    n = 10000,\n",
    "    step = 0.001,\n",
    ").start()"
   ]
  },
  {
   "cell_type": "code",
   "execution_count": null,
   "metadata": {},
   "outputs": [],
   "source": []
  }
 ],
 "metadata": {
  "kernelspec": {
   "display_name": "Python 3",
   "language": "python",
   "name": "python3"
  },
  "language_info": {
   "codemirror_mode": {
    "name": "ipython",
    "version": 3
   },
   "file_extension": ".py",
   "mimetype": "text/x-python",
   "name": "python",
   "nbconvert_exporter": "python",
   "pygments_lexer": "ipython3",
   "version": "3.7.3"
  }
 },
 "nbformat": 4,
 "nbformat_minor": 2
}
